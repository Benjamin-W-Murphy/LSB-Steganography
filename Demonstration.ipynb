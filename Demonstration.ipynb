{
 "cells": [
  {
   "cell_type": "code",
   "execution_count": 6,
   "metadata": {},
   "outputs": [
    {
     "name": "stdout",
     "output_type": "stream",
     "text": [
      "1 lena.png 图片大小：(512, 512)\n",
      "1 testC.png 图片大小：(320, 320)\n",
      "<PIL.Image.Image image mode=RGB size=512x512 at 0x230CCF12670>\n"
     ]
    }
   ],
   "source": [
    "# 读取彩色图像并输出R、G、B三通道图像\n",
    "# 使用PIL.Image实现\n",
    "\n",
    "from PIL import Image\n",
    "import os\n",
    "\n",
    "# 设置图像文件夹路径\n",
    "path = \"./data/cryptograph/images/\"\n",
    "# 读取文件夹中的文件信息并输出\n",
    "img_list = os.listdir(path)\n",
    "i = 1\n",
    "for img in img_list:\n",
    "    print(\"{} {} 图片大小：{}\".format(i,img,Image.open(path+img).size))\n",
    "# 选择要打开的图像并创建RGB图片对象\n",
    "num = int(input(\"\\n请输入要打开的图片编号：\"))\n",
    "img = Image.open(path+img_list[num-1])\n",
    "img = img.convert(\"RGB\")\n",
    "# 输出打开的图像信息\n",
    "print(img)\n",
    "# 将RGB图像拆分成R、G、B三通道图像\n",
    "r,g,b = img.split()\n",
    "r.show()\n",
    "g.show()\n",
    "b.show()"
   ]
  },
  {
   "cell_type": "code",
   "execution_count": 7,
   "outputs": [
    {
     "ename": "AttributeError",
     "evalue": "'LSBimages' object has no attribute 'steganography'",
     "output_type": "error",
     "traceback": [
      "\u001B[1;31m---------------------------------------------------------------------------\u001B[0m",
      "\u001B[1;31mAttributeError\u001B[0m                            Traceback (most recent call last)",
      "Cell \u001B[1;32mIn[7], line 53\u001B[0m\n\u001B[0;32m     49\u001B[0m gray_images[i]\u001B[38;5;241m.\u001B[39mflag \u001B[38;5;241m=\u001B[39m \u001B[38;5;241m3\u001B[39m\n\u001B[0;32m     50\u001B[0m \u001B[38;5;66;03m# gray_images[i].steganography = steganography(gray_images[i].original, gray_images[i].cryptograph, gray_images[i].keys)\u001B[39;00m\n\u001B[0;32m     51\u001B[0m \n\u001B[0;32m     52\u001B[0m \u001B[38;5;66;03m# 计算两种隐写图的卡方值\u001B[39;00m\n\u001B[1;32m---> 53\u001B[0m kafang_binary[i] \u001B[38;5;241m=\u001B[39m (kafang(Image\u001B[38;5;241m.\u001B[39mfromarray(\u001B[43mbinary_images\u001B[49m\u001B[43m[\u001B[49m\u001B[43mi\u001B[49m\u001B[43m]\u001B[49m\u001B[38;5;241;43m.\u001B[39;49m\u001B[43msteganography\u001B[49m)))\n\u001B[0;32m     54\u001B[0m kafang_gary[i] \u001B[38;5;241m=\u001B[39m (kafang(Image\u001B[38;5;241m.\u001B[39mfromarray(gray_images[i]\u001B[38;5;241m.\u001B[39msteganography)))\n\u001B[0;32m     55\u001B[0m \u001B[38;5;66;03m# 计算两种隐写图的RS分析值\u001B[39;00m\n",
      "\u001B[1;31mAttributeError\u001B[0m: 'LSBimages' object has no attribute 'steganography'"
     ]
    }
   ],
   "source": [
    "from LSB_main import *\n",
    "from steganalysis import *\n",
    "\n",
    "\n",
    "class LSBimages :\n",
    "    def __int__(self, id, original, cryptograph, flag, steganography, psnr, ssim):\n",
    "        self.id = id\n",
    "        self.original = original\n",
    "        self.cryptograph = cryptograph\n",
    "        self.flag = flag\n",
    "        self.keys = creat_key(self.original, self.cryptograph,self.flag)\n",
    "        self.steganography = steganography(self.original, self.cryptograph, self.keys)\n",
    "        self.psnr = psnr(self.original, self.steganography)\n",
    "        self.ssim = ssim_2(self.original, self.steganography)\n",
    "\n",
    "\n",
    "# 批量打开隐写载体图像\n",
    "o_path = \"D:/Study/Codes/Datasets/Images/\"\n",
    "original_images_list = os.listdir(o_path)\n",
    "# 打开密文图片\n",
    "c_path = \"D:/Study/Codes/Datasets/c/testC.png\"\n",
    "cryptograph_image_binary = open_binary_images(c_path)\n",
    "cryptograph_image_gray = open_gary_images(c_path)\n",
    "# 创建隐写对象数组\n",
    "binary_images = [LSBimages() for _ in range(len(original_images_list))]\n",
    "gray_images = [LSBimages() for _ in range(len(original_images_list))]\n",
    "# 创建保存隐写分析结果的数组\n",
    "kafang_original = np.zeros((len(original_images_list)))\n",
    "kafang_binary = np.zeros((len(original_images_list)))\n",
    "kafang_gary = np.zeros((len(original_images_list)))\n",
    "\n",
    "rs_original = np.zeros((len(original_images_list)))\n",
    "rs_binary = np.zeros((len(original_images_list)))\n",
    "rs_gray = np.zeros((len(original_images_list)))\n",
    "# 批量隐写并计算隐写性能\n",
    "for i in range(len(original_images_list)):\n",
    "    original_image = cv2.imread(o_path + original_images_list[i])\n",
    "    # 计算原图的卡方值和RS分析值\n",
    "    kafang_original[i] = (kafang(Image.fromarray(original_image)))\n",
    "    rs_original[i] = (rs(Image.fromarray(original_image)))\n",
    "\n",
    "    binary_images[i].original = original_image\n",
    "    binary_images[i].cryptograph = cryptograph_image_binary\n",
    "    binary_images[i].flag = 1\n",
    "    # binary_images[i].steganography = steganography(binary_images[i].original, binary_images[i].cryptograph, binary_images[i].keys)\n",
    "\n",
    "    gray_images[i].original = original_image\n",
    "    gray_images[i].cryptograph = cryptograph_image_gray\n",
    "    gray_images[i].flag = 3\n",
    "    # gray_images[i].steganography = steganography(gray_images[i].original, gray_images[i].cryptograph, gray_images[i].keys)\n",
    "\n",
    "    # 计算两种隐写图的卡方值\n",
    "    kafang_binary[i] = (kafang(Image.fromarray(binary_images[i].steganography)))\n",
    "    kafang_gary[i] = (kafang(Image.fromarray(gray_images[i].steganography)))\n",
    "    # 计算两种隐写图的RS分析值\n",
    "    rs_binary[i] = (kafang(Image.fromarray(binary_images[i].steganography)))\n",
    "    rs_gray[i] = (kafang(Image.fromarray(gray_images[i].steganography)))\n",
    "\n",
    "# 画出两者卡方值与RS分析值的差值分布图\n",
    "difference_value_binary = kafang_binary - kafang_original\n",
    "difference_value_gray = kafang_gary - kafang_original\n",
    "# 计算总体均值\n",
    "binary_mean = np.mean(difference_value_binary)\n",
    "gray_mean = np.mean(difference_value_gray)\n",
    "# 计算总体差值方差\n",
    "binary_var = np.var(difference_value_binary)\n",
    "gray_var = np.var(difference_value_gray)\n",
    "# 计算总体差值标准差\n",
    "binary_std = np.std(difference_value_binary)\n",
    "gray_std = np.std(difference_value_gray)\n",
    "\n",
    "# 以差值本身为横坐标，以差值与方差的差值为纵坐标做出散点图\n",
    "x_1 = difference_value_binary\n",
    "y_1 = difference_value_binary - binary_var\n",
    "plt.figure(figsize=(8, 4))  # figsize:确定画布大小\n",
    "plt.scatter(x_1,  # 横坐标\n",
    "            y_1,  # 纵坐标\n",
    "            c='red',  # 点的颜色\n",
    "            label='function')  # 标签 即为点代表的意思\n",
    "\n",
    "\n",
    "x_2 = difference_value_gray\n",
    "y_2 = difference_value_gray - gray_var\n",
    "plt.figure(figsize=(8, 4))  # figsize:确定画布大小\n",
    "plt.scatter(x_2,  # 横坐标\n",
    "            y_2,  # 纵坐标\n",
    "            c='red',  # 点的颜色\n",
    "            label='function')  # 标签 即为点代表的意思\n",
    "\n",
    "plt.legend()  # 显示图例\n",
    "\n",
    "plt.show()  # 显示所绘图形"
   ],
   "metadata": {
    "collapsed": false,
    "ExecuteTime": {
     "start_time": "2023-04-20T11:09:04.863982Z",
     "end_time": "2023-04-20T11:09:04.938585Z"
    }
   }
  }
 ],
 "metadata": {
  "kernelspec": {
   "display_name": "Pytorch",
   "language": "python",
   "name": "python3"
  },
  "language_info": {
   "codemirror_mode": {
    "name": "ipython",
    "version": 3
   },
   "file_extension": ".py",
   "mimetype": "text/x-python",
   "name": "python",
   "nbconvert_exporter": "python",
   "pygments_lexer": "ipython3",
   "version": "3.9.12"
  },
  "orig_nbformat": 4
 },
 "nbformat": 4,
 "nbformat_minor": 2
}
