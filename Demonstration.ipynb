{
 "cells": [
  {
   "cell_type": "code",
   "execution_count": 6,
   "metadata": {},
   "outputs": [
    {
     "name": "stdout",
     "output_type": "stream",
     "text": [
      "1 lena.png 图片大小：(512, 512)\n",
      "1 testC.png 图片大小：(320, 320)\n",
      "<PIL.Image.Image image mode=RGB size=512x512 at 0x230CCF12670>\n"
     ]
    }
   ],
   "source": [
    "# 读取彩色图像并输出R、G、B三通道图像\n",
    "# 使用PIL.Image实现\n",
    "\n",
    "from PIL import Image\n",
    "import os\n",
    "\n",
    "# 设置图像文件夹路径\n",
    "path = \"./data/cryptograph/images/\"\n",
    "# 读取文件夹中的文件信息并输出\n",
    "img_list = os.listdir(path)\n",
    "i = 1\n",
    "for img in img_list:\n",
    "    print(\"{} {} 图片大小：{}\".format(i,img,Image.open(path+img).size))\n",
    "# 选择要打开的图像并创建RGB图片对象\n",
    "num = int(input(\"\\n请输入要打开的图片编号：\"))\n",
    "img = Image.open(path+img_list[num-1])\n",
    "img = img.convert(\"RGB\")\n",
    "# 输出打开的图像信息\n",
    "print(img)\n",
    "# 将RGB图像拆分成R、G、B三通道图像\n",
    "r,g,b = img.split()\n",
    "r.show()\n",
    "g.show()\n",
    "b.show()"
   ]
  }
 ],
 "metadata": {
  "kernelspec": {
   "display_name": "Pytorch",
   "language": "python",
   "name": "python3"
  },
  "language_info": {
   "codemirror_mode": {
    "name": "ipython",
    "version": 3
   },
   "file_extension": ".py",
   "mimetype": "text/x-python",
   "name": "python",
   "nbconvert_exporter": "python",
   "pygments_lexer": "ipython3",
   "version": "3.9.12"
  },
  "orig_nbformat": 4
 },
 "nbformat": 4,
 "nbformat_minor": 2
}
